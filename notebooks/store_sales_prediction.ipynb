{
 "cells": [
  {
   "cell_type": "markdown",
   "metadata": {},
   "source": [
    "Importing Libraries"
   ]
  },
  {
   "cell_type": "code",
   "execution_count": 1,
   "metadata": {},
   "outputs": [],
   "source": [
    "\n",
    "import sys\n",
    "sys.path.append('../')\n",
    "import pandas as pd\n",
    "import numpy as np\n",
    "from src.utils import check_missing_data\n",
    "import matplotlib.pyplot as plt\n",
    "import seaborn as sns\n",
    "from sklearn.model_selection import train_test_split\n",
    "from sklearn.ensemble import RandomForestRegressor\n",
    "from sklearn.preprocessing import StandardScaler\n",
    "from sklearn.pipeline import Pipeline\n",
    "from sklearn.metrics import mean_squared_error\n",
    "import tensorflow as tf\n",
    "from tensorflow.keras.models import Sequential\n",
    "from tensorflow.keras.layers import LSTM, Dense, Dropout\n",
    "from keras.models import load_model\n",
    "from keras.losses import MeanSquaredError\n",
    "from sklearn.preprocessing import MinMaxScaler\n",
    "import pickle\n",
    "from datetime import datetime\n",
    "import joblib"
   ]
  },
  {
   "cell_type": "markdown",
   "metadata": {},
   "source": [
    "Load data"
   ]
  },
  {
   "cell_type": "code",
   "execution_count": 2,
   "metadata": {},
   "outputs": [],
   "source": [
    "# Load data\n",
    "df_train = pd.read_csv(r'../data/train.csv', low_memory=False)\n",
    "df_test = pd.read_csv(r'../data/test.csv', low_memory=False)\n",
    "df_store = pd.read_csv(r'../data/store.csv', low_memory=False)"
   ]
  },
  {
   "cell_type": "markdown",
   "metadata": {},
   "source": [
    "checking for missing values"
   ]
  },
  {
   "cell_type": "code",
   "execution_count": 3,
   "metadata": {},
   "outputs": [
    {
     "name": "stdout",
     "output_type": "stream",
     "text": [
      "                 Column Name  Missing Values  Percentage Missing\n",
      "3        CompetitionDistance               3            0.269058\n",
      "4  CompetitionOpenSinceMonth             354           31.748879\n",
      "5   CompetitionOpenSinceYear             354           31.748879\n",
      "7            Promo2SinceWeek             544           48.789238\n",
      "8            Promo2SinceYear             544           48.789238\n",
      "9              PromoInterval             544           48.789238\n"
     ]
    }
   ],
   "source": [
    "missing_data_df_store = check_missing_data(df_store)\n",
    "print(missing_data_df_store)"
   ]
  }
 ],
 "metadata": {
  "kernelspec": {
   "display_name": ".venv_rossmannB",
   "language": "python",
   "name": "python3"
  },
  "language_info": {
   "codemirror_mode": {
    "name": "ipython",
    "version": 3
   },
   "file_extension": ".py",
   "mimetype": "text/x-python",
   "name": "python",
   "nbconvert_exporter": "python",
   "pygments_lexer": "ipython3",
   "version": "3.10.6"
  }
 },
 "nbformat": 4,
 "nbformat_minor": 2
}
