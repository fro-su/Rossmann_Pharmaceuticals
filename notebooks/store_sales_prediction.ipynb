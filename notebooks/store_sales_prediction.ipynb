{
 "cells": [
  {
   "cell_type": "markdown",
   "metadata": {},
   "source": [
    "Importing Libraries"
   ]
  },
  {
   "cell_type": "code",
   "execution_count": 1,
   "metadata": {},
   "outputs": [],
   "source": [
    "\n",
    "import sys\n",
    "sys.path.append('../')\n",
    "import pandas as pd\n",
    "import numpy as np\n",
    "from src.utils import check_missing_data\n",
    "import matplotlib.pyplot as plt\n",
    "import seaborn as sns\n",
    "from sklearn.model_selection import train_test_split\n",
    "from sklearn.ensemble import RandomForestRegressor\n",
    "from sklearn.preprocessing import StandardScaler\n",
    "from sklearn.pipeline import Pipeline\n",
    "from sklearn.metrics import mean_squared_error\n",
    "import tensorflow as tf\n",
    "from tensorflow.keras.models import Sequential\n",
    "from tensorflow.keras.layers import LSTM, Dense, Dropout\n",
    "from keras.models import load_model\n",
    "from keras.losses import MeanSquaredError\n",
    "from sklearn.preprocessing import MinMaxScaler\n",
    "import pickle\n",
    "from datetime import datetime\n",
    "import joblib"
   ]
  },
  {
   "cell_type": "markdown",
   "metadata": {},
   "source": [
    "Load data"
   ]
  },
  {
   "cell_type": "code",
   "execution_count": 2,
   "metadata": {},
   "outputs": [],
   "source": [
    "# Load data\n",
    "df_train = pd.read_csv(r'../data/train.csv', low_memory=False)\n",
    "df_test = pd.read_csv(r'../data/test.csv', low_memory=False)\n",
    "df_store = pd.read_csv(r'../data/store.csv', low_memory=False)"
   ]
  },
  {
   "cell_type": "markdown",
   "metadata": {},
   "source": [
    "checking for missing values"
   ]
  },
  {
   "cell_type": "code",
   "execution_count": 3,
   "metadata": {},
   "outputs": [
    {
     "name": "stdout",
     "output_type": "stream",
     "text": [
      "                 Column Name  Missing Values  Percentage Missing\n",
      "3        CompetitionDistance               3            0.269058\n",
      "4  CompetitionOpenSinceMonth             354           31.748879\n",
      "5   CompetitionOpenSinceYear             354           31.748879\n",
      "7            Promo2SinceWeek             544           48.789238\n",
      "8            Promo2SinceYear             544           48.789238\n",
      "9              PromoInterval             544           48.789238\n"
     ]
    }
   ],
   "source": [
    "missing_data_df_store = check_missing_data(df_store)\n",
    "print(missing_data_df_store)"
   ]
  },
  {
   "cell_type": "code",
   "execution_count": 4,
   "metadata": {},
   "outputs": [
    {
     "name": "stderr",
     "output_type": "stream",
     "text": [
      "C:\\Users\\Firew Ayele\\AppData\\Local\\Temp\\ipykernel_28908\\2325696550.py:2: FutureWarning: A value is trying to be set on a copy of a DataFrame or Series through chained assignment using an inplace method.\n",
      "The behavior will change in pandas 3.0. This inplace method will never work because the intermediate object on which we are setting values always behaves as a copy.\n",
      "\n",
      "For example, when doing 'df[col].method(value, inplace=True)', try using 'df.method({col: value}, inplace=True)' or df[col] = df[col].method(value) instead, to perform the operation inplace on the original object.\n",
      "\n",
      "\n",
      "  df_store['CompetitionDistance'].fillna(df_store['CompetitionDistance'].median(), inplace=True)\n",
      "C:\\Users\\Firew Ayele\\AppData\\Local\\Temp\\ipykernel_28908\\2325696550.py:3: FutureWarning: A value is trying to be set on a copy of a DataFrame or Series through chained assignment using an inplace method.\n",
      "The behavior will change in pandas 3.0. This inplace method will never work because the intermediate object on which we are setting values always behaves as a copy.\n",
      "\n",
      "For example, when doing 'df[col].method(value, inplace=True)', try using 'df.method({col: value}, inplace=True)' or df[col] = df[col].method(value) instead, to perform the operation inplace on the original object.\n",
      "\n",
      "\n",
      "  df_store['CompetitionOpenSinceMonth'].fillna(0, inplace=True)\n",
      "C:\\Users\\Firew Ayele\\AppData\\Local\\Temp\\ipykernel_28908\\2325696550.py:4: FutureWarning: A value is trying to be set on a copy of a DataFrame or Series through chained assignment using an inplace method.\n",
      "The behavior will change in pandas 3.0. This inplace method will never work because the intermediate object on which we are setting values always behaves as a copy.\n",
      "\n",
      "For example, when doing 'df[col].method(value, inplace=True)', try using 'df.method({col: value}, inplace=True)' or df[col] = df[col].method(value) instead, to perform the operation inplace on the original object.\n",
      "\n",
      "\n",
      "  df_store['CompetitionOpenSinceYear'].fillna(0, inplace=True)\n",
      "C:\\Users\\Firew Ayele\\AppData\\Local\\Temp\\ipykernel_28908\\2325696550.py:5: FutureWarning: A value is trying to be set on a copy of a DataFrame or Series through chained assignment using an inplace method.\n",
      "The behavior will change in pandas 3.0. This inplace method will never work because the intermediate object on which we are setting values always behaves as a copy.\n",
      "\n",
      "For example, when doing 'df[col].method(value, inplace=True)', try using 'df.method({col: value}, inplace=True)' or df[col] = df[col].method(value) instead, to perform the operation inplace on the original object.\n",
      "\n",
      "\n",
      "  df_store['Promo2SinceWeek'].fillna(0, inplace=True)\n",
      "C:\\Users\\Firew Ayele\\AppData\\Local\\Temp\\ipykernel_28908\\2325696550.py:6: FutureWarning: A value is trying to be set on a copy of a DataFrame or Series through chained assignment using an inplace method.\n",
      "The behavior will change in pandas 3.0. This inplace method will never work because the intermediate object on which we are setting values always behaves as a copy.\n",
      "\n",
      "For example, when doing 'df[col].method(value, inplace=True)', try using 'df.method({col: value}, inplace=True)' or df[col] = df[col].method(value) instead, to perform the operation inplace on the original object.\n",
      "\n",
      "\n",
      "  df_store['Promo2SinceYear'].fillna(0, inplace=True)\n",
      "C:\\Users\\Firew Ayele\\AppData\\Local\\Temp\\ipykernel_28908\\2325696550.py:7: FutureWarning: A value is trying to be set on a copy of a DataFrame or Series through chained assignment using an inplace method.\n",
      "The behavior will change in pandas 3.0. This inplace method will never work because the intermediate object on which we are setting values always behaves as a copy.\n",
      "\n",
      "For example, when doing 'df[col].method(value, inplace=True)', try using 'df.method({col: value}, inplace=True)' or df[col] = df[col].method(value) instead, to perform the operation inplace on the original object.\n",
      "\n",
      "\n",
      "  df_store['PromoInterval'].fillna('', inplace=True)\n"
     ]
    }
   ],
   "source": [
    "# Handle missing values\n",
    "df_store['CompetitionDistance'].fillna(df_store['CompetitionDistance'].median(), inplace=True)\n",
    "df_store['CompetitionOpenSinceMonth'].fillna(0, inplace=True)\n",
    "df_store['CompetitionOpenSinceYear'].fillna(0, inplace=True)\n",
    "df_store['Promo2SinceWeek'].fillna(0, inplace=True)\n",
    "df_store['Promo2SinceYear'].fillna(0, inplace=True)\n",
    "df_store['PromoInterval'].fillna('', inplace=True)"
   ]
  },
  {
   "cell_type": "code",
   "execution_count": 5,
   "metadata": {},
   "outputs": [
    {
     "name": "stdout",
     "output_type": "stream",
     "text": [
      "Success: No missing values.\n"
     ]
    }
   ],
   "source": [
    "# checking for missing values\n",
    "missing_data_df_store = check_missing_data(df_store)\n",
    "print(missing_data_df_store)"
   ]
  },
  {
   "cell_type": "code",
   "execution_count": 6,
   "metadata": {},
   "outputs": [],
   "source": [
    "# Remove leading and trailing whitespaces\n",
    "df_train['StateHoliday'] = df_train['StateHoliday'].str.strip()"
   ]
  }
 ],
 "metadata": {
  "kernelspec": {
   "display_name": ".venv_rossmannB",
   "language": "python",
   "name": "python3"
  },
  "language_info": {
   "codemirror_mode": {
    "name": "ipython",
    "version": 3
   },
   "file_extension": ".py",
   "mimetype": "text/x-python",
   "name": "python",
   "nbconvert_exporter": "python",
   "pygments_lexer": "ipython3",
   "version": "3.10.6"
  }
 },
 "nbformat": 4,
 "nbformat_minor": 2
}
